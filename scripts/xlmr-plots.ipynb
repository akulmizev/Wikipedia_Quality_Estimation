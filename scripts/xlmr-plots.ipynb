{
 "cells": [
  {
   "cell_type": "code",
   "execution_count": 23,
   "metadata": {},
   "outputs": [],
   "source": [
    "import numpy as np\n",
    "import pandas as pd\n",
    "from pathlib import Path\n",
    "\n",
    "files = list((Path().resolve().parent / \"experiments\").rglob(\"xlmr_*/**/*.scores.txt\"))\n",
    "\n",
    "records = []\n",
    "for file in files:\n",
    "    items = str(file).split(\"/\")\n",
    "    model, lang = items[-3], items[-2]\n",
    "    record = {\"lang\": lang, \"model\": model}\n",
    "    for item in file.read_text().splitlines():\n",
    "        key, value = item.split(\"\\t\")\n",
    "        record[key] = float(value)\n",
    "    records.append(record)"
   ]
  },
  {
   "cell_type": "code",
   "execution_count": 24,
   "metadata": {},
   "outputs": [],
   "source": [
    "quality_tier = {\n",
    "    \"mi\": \"worst\",\n",
    "    \"mni\": \"worst\",\n",
    "    \"pag\": \"worst\",\n",
    "    \"ace\": \"bad\",\n",
    "    \"ban\": \"bad\",\n",
    "    \"ht\": \"bad\",\n",
    "    \"lij\": \"bad\",\n",
    "    \"mai\": \"bad\",\n",
    "    \"nso\": \"bad\",\n",
    "    \"yo\": \"bad\",\n",
    "    \"shn\": \"bad\",\n",
    "    \"ks\": \"good\",\n",
    "    \"lg\": \"good\",\n",
    "    \"tn\": \"good\",\n",
    "    \"awa\": \"good\",\n",
    "    \"rn\": \"good\",\n",
    "    \"zu\": \"good\",\n",
    "    \"bm\": \"best\",\n",
    "    \"ee\": \"best\",\n",
    "    \"fon\": \"best\",\n",
    "    \"ig\": \"best\",\n",
    "    \"ln\": \"best\",\n",
    "    \"ny\": \"best\",\n",
    "    \"pcm\": \"best\",\n",
    "    \"rw\": \"best\",\n",
    "    \"sn\": \"best\",\n",
    "    \"ti\": \"best\",\n",
    "    \"ts\": \"best\",\n",
    "    \"tw\": \"best\",\n",
    "    \"wo\": \"best\",\n",
    "}"
   ]
  },
  {
   "cell_type": "code",
   "execution_count": 25,
   "metadata": {},
   "outputs": [],
   "source": [
    "df = pd.DataFrame().from_records(records)\n",
    "df['tier'] = df['lang'].apply(quality_tier.get)"
   ]
  },
  {
   "cell_type": "code",
   "execution_count": 26,
   "metadata": {},
   "outputs": [],
   "source": [
    "df.to_csv('xlm-r-sib200-results.csv', index=False)"
   ]
  },
  {
   "cell_type": "code",
   "execution_count": 27,
   "metadata": {},
   "outputs": [],
   "source": [
    "import altair as alt\n",
    "\n",
    "plots = []\n",
    "for tier in df[\"tier\"].unique():\n",
    "    selection = df[\"tier\"] == tier\n",
    "\n",
    "    tmp_plot = (\n",
    "        alt.Chart(df[selection], title=f\"Tier: {tier}\")\n",
    "        .mark_bar()\n",
    "        .encode(\n",
    "            x=alt.X(\"model\", title=None, axis=alt.Axis(labelAngle=-45)).sort('ascending'),\n",
    "            y=alt.Y(\"f1\", title=\"F1\", scale=alt.Scale(domain=[0, 1])),\n",
    "            column=alt.Column(\"lang:N\", title=None).sort('ascending'),\n",
    "            color=alt.Color(\"model\", legend=None),\n",
    "        )\n",
    "    )\n",
    "    plots.append(tmp_plot)\n",
    "\n",
    "plot = (\n",
    "    alt.vconcat(*plots)\n",
    "    .properties(\n",
    "        title=\"XLM-R results SIB-200\",\n",
    "    )\n",
    "    .configure_title(\n",
    "        orient=\"top\",\n",
    "        anchor=\"middle\",\n",
    "    )\n",
    ")\n",
    "plot.save(\"xlmr-sib-200.png\")"
   ]
  },
  {
   "cell_type": "code",
   "execution_count": 28,
   "metadata": {},
   "outputs": [
    {
     "data": {
      "text/plain": [
       "0.14285714285714285"
      ]
     },
     "execution_count": 28,
     "metadata": {},
     "output_type": "execute_result"
    }
   ],
   "source": [
    "1/7"
   ]
  },
  {
   "cell_type": "code",
   "execution_count": 23,
   "metadata": {},
   "outputs": [
    {
     "data": {
      "text/html": [
       "<div>\n",
       "<style scoped>\n",
       "    .dataframe tbody tr th:only-of-type {\n",
       "        vertical-align: middle;\n",
       "    }\n",
       "\n",
       "    .dataframe tbody tr th {\n",
       "        vertical-align: top;\n",
       "    }\n",
       "\n",
       "    .dataframe thead th {\n",
       "        text-align: right;\n",
       "    }\n",
       "</style>\n",
       "<table border=\"1\" class=\"dataframe\">\n",
       "  <thead>\n",
       "    <tr style=\"text-align: right;\">\n",
       "      <th></th>\n",
       "      <th>lang</th>\n",
       "      <th>model</th>\n",
       "      <th>precision</th>\n",
       "      <th>recall</th>\n",
       "      <th>f1</th>\n",
       "    </tr>\n",
       "  </thead>\n",
       "  <tbody>\n",
       "    <tr>\n",
       "      <th>1</th>\n",
       "      <td>yo</td>\n",
       "      <td>xlmr_eval_raw_wiki</td>\n",
       "      <td>0.219251</td>\n",
       "      <td>0.401961</td>\n",
       "      <td>0.283736</td>\n",
       "    </tr>\n",
       "    <tr>\n",
       "      <th>5</th>\n",
       "      <td>yo</td>\n",
       "      <td>xlmr_eval_pre_filtered</td>\n",
       "      <td>0.102282</td>\n",
       "      <td>0.225490</td>\n",
       "      <td>0.140729</td>\n",
       "    </tr>\n",
       "    <tr>\n",
       "      <th>9</th>\n",
       "      <td>yo</td>\n",
       "      <td>xlmr_eval_baseline</td>\n",
       "      <td>0.062500</td>\n",
       "      <td>0.250000</td>\n",
       "      <td>0.100000</td>\n",
       "    </tr>\n",
       "  </tbody>\n",
       "</table>\n",
       "</div>"
      ],
      "text/plain": [
       "  lang                   model  precision    recall        f1\n",
       "1   yo      xlmr_eval_raw_wiki   0.219251  0.401961  0.283736\n",
       "5   yo  xlmr_eval_pre_filtered   0.102282  0.225490  0.140729\n",
       "9   yo      xlmr_eval_baseline   0.062500  0.250000  0.100000"
      ]
     },
     "execution_count": 23,
     "metadata": {},
     "output_type": "execute_result"
    }
   ],
   "source": [
    "df[df['lang'] == 'yo']"
   ]
  }
 ],
 "metadata": {
  "kernelspec": {
   "display_name": "wiki",
   "language": "python",
   "name": "python3"
  },
  "language_info": {
   "codemirror_mode": {
    "name": "ipython",
    "version": 3
   },
   "file_extension": ".py",
   "mimetype": "text/x-python",
   "name": "python",
   "nbconvert_exporter": "python",
   "pygments_lexer": "ipython3",
   "version": "3.11.9"
  }
 },
 "nbformat": 4,
 "nbformat_minor": 2
}
